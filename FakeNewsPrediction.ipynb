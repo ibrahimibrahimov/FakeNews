{
  "metadata": {
    "kernelspec": {
      "language": "python",
      "display_name": "Python 3",
      "name": "python3"
    },
    "language_info": {
      "pygments_lexer": "ipython3",
      "nbconvert_exporter": "python",
      "version": "3.6.4",
      "file_extension": ".py",
      "codemirror_mode": {
        "name": "ipython",
        "version": 3
      },
      "name": "python",
      "mimetype": "text/x-python"
    },
    "colab": {
      "name": "FakeNewsPrediction.ipynb",
      "provenance": [],
      "include_colab_link": true
    }
  },
  "nbformat_minor": 0,
  "nbformat": 4,
  "cells": [
    {
      "cell_type": "markdown",
      "metadata": {
        "id": "view-in-github",
        "colab_type": "text"
      },
      "source": [
        "<a href=\"https://colab.research.google.com/github/ibrahimkhaliloglu/FakeNews/blob/main/FakeNewsPrediction.ipynb\" target=\"_parent\"><img src=\"https://colab.research.google.com/assets/colab-badge.svg\" alt=\"Open In Colab\"/></a>"
      ]
    },
    {
      "cell_type": "code",
      "source": [
        "# Importing Libraries\n",
        "import pandas as pd\n",
        "import numpy as np\n",
        "import nltk\n",
        "import re\n",
        "from nltk.corpus import stopwords\n",
        "nltk.download('stopwords')\n",
        "from tensorflow.keras.layers import Embedding,Dropout\n",
        "from tensorflow.keras.preprocessing.sequence import pad_sequences\n",
        "from tensorflow.keras.models import Sequential\n",
        "from tensorflow.keras.preprocessing.text import one_hot\n",
        "from tensorflow.keras.layers import LSTM,Bidirectional,GRU\n",
        "from tensorflow.keras.layers import Dense\n",
        "from sklearn.metrics import classification_report,accuracy_score\n",
        "from sklearn.linear_model import LogisticRegression\n",
        "from sklearn.tree import DecisionTreeClassifier\n",
        "from sklearn.ensemble import RandomForestClassifier\n",
        "from sklearn.linear_model import LogisticRegression\n",
        "from sklearn.naive_bayes import MultinomialNB"
      ],
      "metadata": {
        "execution": {
          "iopub.status.busy": "2022-05-06T07:02:55.725209Z",
          "iopub.execute_input": "2022-05-06T07:02:55.72586Z",
          "iopub.status.idle": "2022-05-06T07:02:55.734332Z",
          "shell.execute_reply.started": "2022-05-06T07:02:55.725819Z",
          "shell.execute_reply": "2022-05-06T07:02:55.733703Z"
        },
        "trusted": true,
        "colab": {
          "base_uri": "https://localhost:8080/"
        },
        "id": "57UZUIlRuvix",
        "outputId": "e863c6da-6968-4bc1-aba1-6c3f6607f42f"
      },
      "execution_count": 3,
      "outputs": [
        {
          "output_type": "stream",
          "name": "stdout",
          "text": [
            "[nltk_data] Downloading package stopwords to /root/nltk_data...\n",
            "[nltk_data]   Package stopwords is already up-to-date!\n"
          ]
        }
      ]
    },
    {
      "cell_type": "code",
      "source": [
        "# Reading data from csv\n",
        "train = pd.read_csv(\"../content/train.csv\")\n",
        "test  = pd.read_csv(\"../content/test.csv\")\n",
        "train.head()"
      ],
      "metadata": {
        "execution": {
          "iopub.status.busy": "2022-05-06T07:02:55.737953Z",
          "iopub.execute_input": "2022-05-06T07:02:55.738414Z",
          "iopub.status.idle": "2022-05-06T07:02:59.692906Z",
          "shell.execute_reply.started": "2022-05-06T07:02:55.738384Z",
          "shell.execute_reply": "2022-05-06T07:02:59.691958Z"
        },
        "trusted": true,
        "colab": {
          "base_uri": "https://localhost:8080/",
          "height": 206
        },
        "id": "oDasK8pjuviy",
        "outputId": "f05f1cec-5eb3-401a-cf8f-aab2f675fd7e"
      },
      "execution_count": 4,
      "outputs": [
        {
          "output_type": "execute_result",
          "data": {
            "text/plain": [
              "   id                                              title              author  \\\n",
              "0   0  House Dem Aide: We Didn’t Even See Comey’s Let...       Darrell Lucus   \n",
              "1   1  FLYNN: Hillary Clinton, Big Woman on Campus - ...     Daniel J. Flynn   \n",
              "2   2                  Why the Truth Might Get You Fired  Consortiumnews.com   \n",
              "3   3  15 Civilians Killed In Single US Airstrike Hav...     Jessica Purkiss   \n",
              "4   4  Iranian woman jailed for fictional unpublished...      Howard Portnoy   \n",
              "\n",
              "                                                text  label  \n",
              "0  House Dem Aide: We Didn’t Even See Comey’s Let...      1  \n",
              "1  Ever get the feeling your life circles the rou...      0  \n",
              "2  Why the Truth Might Get You Fired October 29, ...      1  \n",
              "3  Videos 15 Civilians Killed In Single US Airstr...      1  \n",
              "4  Print \\nAn Iranian woman has been sentenced to...      1  "
            ],
            "text/html": [
              "\n",
              "  <div id=\"df-95591d96-6f82-48ae-ba4d-441ad94b721c\">\n",
              "    <div class=\"colab-df-container\">\n",
              "      <div>\n",
              "<style scoped>\n",
              "    .dataframe tbody tr th:only-of-type {\n",
              "        vertical-align: middle;\n",
              "    }\n",
              "\n",
              "    .dataframe tbody tr th {\n",
              "        vertical-align: top;\n",
              "    }\n",
              "\n",
              "    .dataframe thead th {\n",
              "        text-align: right;\n",
              "    }\n",
              "</style>\n",
              "<table border=\"1\" class=\"dataframe\">\n",
              "  <thead>\n",
              "    <tr style=\"text-align: right;\">\n",
              "      <th></th>\n",
              "      <th>id</th>\n",
              "      <th>title</th>\n",
              "      <th>author</th>\n",
              "      <th>text</th>\n",
              "      <th>label</th>\n",
              "    </tr>\n",
              "  </thead>\n",
              "  <tbody>\n",
              "    <tr>\n",
              "      <th>0</th>\n",
              "      <td>0</td>\n",
              "      <td>House Dem Aide: We Didn’t Even See Comey’s Let...</td>\n",
              "      <td>Darrell Lucus</td>\n",
              "      <td>House Dem Aide: We Didn’t Even See Comey’s Let...</td>\n",
              "      <td>1</td>\n",
              "    </tr>\n",
              "    <tr>\n",
              "      <th>1</th>\n",
              "      <td>1</td>\n",
              "      <td>FLYNN: Hillary Clinton, Big Woman on Campus - ...</td>\n",
              "      <td>Daniel J. Flynn</td>\n",
              "      <td>Ever get the feeling your life circles the rou...</td>\n",
              "      <td>0</td>\n",
              "    </tr>\n",
              "    <tr>\n",
              "      <th>2</th>\n",
              "      <td>2</td>\n",
              "      <td>Why the Truth Might Get You Fired</td>\n",
              "      <td>Consortiumnews.com</td>\n",
              "      <td>Why the Truth Might Get You Fired October 29, ...</td>\n",
              "      <td>1</td>\n",
              "    </tr>\n",
              "    <tr>\n",
              "      <th>3</th>\n",
              "      <td>3</td>\n",
              "      <td>15 Civilians Killed In Single US Airstrike Hav...</td>\n",
              "      <td>Jessica Purkiss</td>\n",
              "      <td>Videos 15 Civilians Killed In Single US Airstr...</td>\n",
              "      <td>1</td>\n",
              "    </tr>\n",
              "    <tr>\n",
              "      <th>4</th>\n",
              "      <td>4</td>\n",
              "      <td>Iranian woman jailed for fictional unpublished...</td>\n",
              "      <td>Howard Portnoy</td>\n",
              "      <td>Print \\nAn Iranian woman has been sentenced to...</td>\n",
              "      <td>1</td>\n",
              "    </tr>\n",
              "  </tbody>\n",
              "</table>\n",
              "</div>\n",
              "      <button class=\"colab-df-convert\" onclick=\"convertToInteractive('df-95591d96-6f82-48ae-ba4d-441ad94b721c')\"\n",
              "              title=\"Convert this dataframe to an interactive table.\"\n",
              "              style=\"display:none;\">\n",
              "        \n",
              "  <svg xmlns=\"http://www.w3.org/2000/svg\" height=\"24px\"viewBox=\"0 0 24 24\"\n",
              "       width=\"24px\">\n",
              "    <path d=\"M0 0h24v24H0V0z\" fill=\"none\"/>\n",
              "    <path d=\"M18.56 5.44l.94 2.06.94-2.06 2.06-.94-2.06-.94-.94-2.06-.94 2.06-2.06.94zm-11 1L8.5 8.5l.94-2.06 2.06-.94-2.06-.94L8.5 2.5l-.94 2.06-2.06.94zm10 10l.94 2.06.94-2.06 2.06-.94-2.06-.94-.94-2.06-.94 2.06-2.06.94z\"/><path d=\"M17.41 7.96l-1.37-1.37c-.4-.4-.92-.59-1.43-.59-.52 0-1.04.2-1.43.59L10.3 9.45l-7.72 7.72c-.78.78-.78 2.05 0 2.83L4 21.41c.39.39.9.59 1.41.59.51 0 1.02-.2 1.41-.59l7.78-7.78 2.81-2.81c.8-.78.8-2.07 0-2.86zM5.41 20L4 18.59l7.72-7.72 1.47 1.35L5.41 20z\"/>\n",
              "  </svg>\n",
              "      </button>\n",
              "      \n",
              "  <style>\n",
              "    .colab-df-container {\n",
              "      display:flex;\n",
              "      flex-wrap:wrap;\n",
              "      gap: 12px;\n",
              "    }\n",
              "\n",
              "    .colab-df-convert {\n",
              "      background-color: #E8F0FE;\n",
              "      border: none;\n",
              "      border-radius: 50%;\n",
              "      cursor: pointer;\n",
              "      display: none;\n",
              "      fill: #1967D2;\n",
              "      height: 32px;\n",
              "      padding: 0 0 0 0;\n",
              "      width: 32px;\n",
              "    }\n",
              "\n",
              "    .colab-df-convert:hover {\n",
              "      background-color: #E2EBFA;\n",
              "      box-shadow: 0px 1px 2px rgba(60, 64, 67, 0.3), 0px 1px 3px 1px rgba(60, 64, 67, 0.15);\n",
              "      fill: #174EA6;\n",
              "    }\n",
              "\n",
              "    [theme=dark] .colab-df-convert {\n",
              "      background-color: #3B4455;\n",
              "      fill: #D2E3FC;\n",
              "    }\n",
              "\n",
              "    [theme=dark] .colab-df-convert:hover {\n",
              "      background-color: #434B5C;\n",
              "      box-shadow: 0px 1px 3px 1px rgba(0, 0, 0, 0.15);\n",
              "      filter: drop-shadow(0px 1px 2px rgba(0, 0, 0, 0.3));\n",
              "      fill: #FFFFFF;\n",
              "    }\n",
              "  </style>\n",
              "\n",
              "      <script>\n",
              "        const buttonEl =\n",
              "          document.querySelector('#df-95591d96-6f82-48ae-ba4d-441ad94b721c button.colab-df-convert');\n",
              "        buttonEl.style.display =\n",
              "          google.colab.kernel.accessAllowed ? 'block' : 'none';\n",
              "\n",
              "        async function convertToInteractive(key) {\n",
              "          const element = document.querySelector('#df-95591d96-6f82-48ae-ba4d-441ad94b721c');\n",
              "          const dataTable =\n",
              "            await google.colab.kernel.invokeFunction('convertToInteractive',\n",
              "                                                     [key], {});\n",
              "          if (!dataTable) return;\n",
              "\n",
              "          const docLinkHtml = 'Like what you see? Visit the ' +\n",
              "            '<a target=\"_blank\" href=https://colab.research.google.com/notebooks/data_table.ipynb>data table notebook</a>'\n",
              "            + ' to learn more about interactive tables.';\n",
              "          element.innerHTML = '';\n",
              "          dataTable['output_type'] = 'display_data';\n",
              "          await google.colab.output.renderOutput(dataTable, element);\n",
              "          const docLink = document.createElement('div');\n",
              "          docLink.innerHTML = docLinkHtml;\n",
              "          element.appendChild(docLink);\n",
              "        }\n",
              "      </script>\n",
              "    </div>\n",
              "  </div>\n",
              "  "
            ]
          },
          "metadata": {},
          "execution_count": 4
        }
      ]
    },
    {
      "cell_type": "code",
      "source": [
        "test.head()"
      ],
      "metadata": {
        "execution": {
          "iopub.status.busy": "2022-05-06T07:03:03.276562Z",
          "iopub.execute_input": "2022-05-06T07:03:03.276899Z",
          "iopub.status.idle": "2022-05-06T07:03:03.287912Z",
          "shell.execute_reply.started": "2022-05-06T07:03:03.276865Z",
          "shell.execute_reply": "2022-05-06T07:03:03.287132Z"
        },
        "trusted": true,
        "colab": {
          "base_uri": "https://localhost:8080/",
          "height": 206
        },
        "id": "9aqElCCquviz",
        "outputId": "67d8b67d-634a-4842-dfbd-28f942505db3"
      },
      "execution_count": 5,
      "outputs": [
        {
          "output_type": "execute_result",
          "data": {
            "text/plain": [
              "      id                                              title  \\\n",
              "0  20800  Specter of Trump Loosens Tongues, if Not Purse...   \n",
              "1  20801  Russian warships ready to strike terrorists ne...   \n",
              "2  20802  #NoDAPL: Native American Leaders Vow to Stay A...   \n",
              "3  20803  Tim Tebow Will Attempt Another Comeback, This ...   \n",
              "4  20804                    Keiser Report: Meme Wars (E995)   \n",
              "\n",
              "                    author                                               text  \n",
              "0         David Streitfeld  PALO ALTO, Calif.  —   After years of scorning...  \n",
              "1                      NaN  Russian warships ready to strike terrorists ne...  \n",
              "2            Common Dreams  Videos #NoDAPL: Native American Leaders Vow to...  \n",
              "3            Daniel Victor  If at first you don’t succeed, try a different...  \n",
              "4  Truth Broadcast Network  42 mins ago 1 Views 0 Comments 0 Likes 'For th...  "
            ],
            "text/html": [
              "\n",
              "  <div id=\"df-df6e5bed-a438-408a-bf9b-81ca16adae75\">\n",
              "    <div class=\"colab-df-container\">\n",
              "      <div>\n",
              "<style scoped>\n",
              "    .dataframe tbody tr th:only-of-type {\n",
              "        vertical-align: middle;\n",
              "    }\n",
              "\n",
              "    .dataframe tbody tr th {\n",
              "        vertical-align: top;\n",
              "    }\n",
              "\n",
              "    .dataframe thead th {\n",
              "        text-align: right;\n",
              "    }\n",
              "</style>\n",
              "<table border=\"1\" class=\"dataframe\">\n",
              "  <thead>\n",
              "    <tr style=\"text-align: right;\">\n",
              "      <th></th>\n",
              "      <th>id</th>\n",
              "      <th>title</th>\n",
              "      <th>author</th>\n",
              "      <th>text</th>\n",
              "    </tr>\n",
              "  </thead>\n",
              "  <tbody>\n",
              "    <tr>\n",
              "      <th>0</th>\n",
              "      <td>20800</td>\n",
              "      <td>Specter of Trump Loosens Tongues, if Not Purse...</td>\n",
              "      <td>David Streitfeld</td>\n",
              "      <td>PALO ALTO, Calif.  —   After years of scorning...</td>\n",
              "    </tr>\n",
              "    <tr>\n",
              "      <th>1</th>\n",
              "      <td>20801</td>\n",
              "      <td>Russian warships ready to strike terrorists ne...</td>\n",
              "      <td>NaN</td>\n",
              "      <td>Russian warships ready to strike terrorists ne...</td>\n",
              "    </tr>\n",
              "    <tr>\n",
              "      <th>2</th>\n",
              "      <td>20802</td>\n",
              "      <td>#NoDAPL: Native American Leaders Vow to Stay A...</td>\n",
              "      <td>Common Dreams</td>\n",
              "      <td>Videos #NoDAPL: Native American Leaders Vow to...</td>\n",
              "    </tr>\n",
              "    <tr>\n",
              "      <th>3</th>\n",
              "      <td>20803</td>\n",
              "      <td>Tim Tebow Will Attempt Another Comeback, This ...</td>\n",
              "      <td>Daniel Victor</td>\n",
              "      <td>If at first you don’t succeed, try a different...</td>\n",
              "    </tr>\n",
              "    <tr>\n",
              "      <th>4</th>\n",
              "      <td>20804</td>\n",
              "      <td>Keiser Report: Meme Wars (E995)</td>\n",
              "      <td>Truth Broadcast Network</td>\n",
              "      <td>42 mins ago 1 Views 0 Comments 0 Likes 'For th...</td>\n",
              "    </tr>\n",
              "  </tbody>\n",
              "</table>\n",
              "</div>\n",
              "      <button class=\"colab-df-convert\" onclick=\"convertToInteractive('df-df6e5bed-a438-408a-bf9b-81ca16adae75')\"\n",
              "              title=\"Convert this dataframe to an interactive table.\"\n",
              "              style=\"display:none;\">\n",
              "        \n",
              "  <svg xmlns=\"http://www.w3.org/2000/svg\" height=\"24px\"viewBox=\"0 0 24 24\"\n",
              "       width=\"24px\">\n",
              "    <path d=\"M0 0h24v24H0V0z\" fill=\"none\"/>\n",
              "    <path d=\"M18.56 5.44l.94 2.06.94-2.06 2.06-.94-2.06-.94-.94-2.06-.94 2.06-2.06.94zm-11 1L8.5 8.5l.94-2.06 2.06-.94-2.06-.94L8.5 2.5l-.94 2.06-2.06.94zm10 10l.94 2.06.94-2.06 2.06-.94-2.06-.94-.94-2.06-.94 2.06-2.06.94z\"/><path d=\"M17.41 7.96l-1.37-1.37c-.4-.4-.92-.59-1.43-.59-.52 0-1.04.2-1.43.59L10.3 9.45l-7.72 7.72c-.78.78-.78 2.05 0 2.83L4 21.41c.39.39.9.59 1.41.59.51 0 1.02-.2 1.41-.59l7.78-7.78 2.81-2.81c.8-.78.8-2.07 0-2.86zM5.41 20L4 18.59l7.72-7.72 1.47 1.35L5.41 20z\"/>\n",
              "  </svg>\n",
              "      </button>\n",
              "      \n",
              "  <style>\n",
              "    .colab-df-container {\n",
              "      display:flex;\n",
              "      flex-wrap:wrap;\n",
              "      gap: 12px;\n",
              "    }\n",
              "\n",
              "    .colab-df-convert {\n",
              "      background-color: #E8F0FE;\n",
              "      border: none;\n",
              "      border-radius: 50%;\n",
              "      cursor: pointer;\n",
              "      display: none;\n",
              "      fill: #1967D2;\n",
              "      height: 32px;\n",
              "      padding: 0 0 0 0;\n",
              "      width: 32px;\n",
              "    }\n",
              "\n",
              "    .colab-df-convert:hover {\n",
              "      background-color: #E2EBFA;\n",
              "      box-shadow: 0px 1px 2px rgba(60, 64, 67, 0.3), 0px 1px 3px 1px rgba(60, 64, 67, 0.15);\n",
              "      fill: #174EA6;\n",
              "    }\n",
              "\n",
              "    [theme=dark] .colab-df-convert {\n",
              "      background-color: #3B4455;\n",
              "      fill: #D2E3FC;\n",
              "    }\n",
              "\n",
              "    [theme=dark] .colab-df-convert:hover {\n",
              "      background-color: #434B5C;\n",
              "      box-shadow: 0px 1px 3px 1px rgba(0, 0, 0, 0.15);\n",
              "      filter: drop-shadow(0px 1px 2px rgba(0, 0, 0, 0.3));\n",
              "      fill: #FFFFFF;\n",
              "    }\n",
              "  </style>\n",
              "\n",
              "      <script>\n",
              "        const buttonEl =\n",
              "          document.querySelector('#df-df6e5bed-a438-408a-bf9b-81ca16adae75 button.colab-df-convert');\n",
              "        buttonEl.style.display =\n",
              "          google.colab.kernel.accessAllowed ? 'block' : 'none';\n",
              "\n",
              "        async function convertToInteractive(key) {\n",
              "          const element = document.querySelector('#df-df6e5bed-a438-408a-bf9b-81ca16adae75');\n",
              "          const dataTable =\n",
              "            await google.colab.kernel.invokeFunction('convertToInteractive',\n",
              "                                                     [key], {});\n",
              "          if (!dataTable) return;\n",
              "\n",
              "          const docLinkHtml = 'Like what you see? Visit the ' +\n",
              "            '<a target=\"_blank\" href=https://colab.research.google.com/notebooks/data_table.ipynb>data table notebook</a>'\n",
              "            + ' to learn more about interactive tables.';\n",
              "          element.innerHTML = '';\n",
              "          dataTable['output_type'] = 'display_data';\n",
              "          await google.colab.output.renderOutput(dataTable, element);\n",
              "          const docLink = document.createElement('div');\n",
              "          docLink.innerHTML = docLinkHtml;\n",
              "          element.appendChild(docLink);\n",
              "        }\n",
              "      </script>\n",
              "    </div>\n",
              "  </div>\n",
              "  "
            ]
          },
          "metadata": {},
          "execution_count": 5
        }
      ]
    },
    {
      "cell_type": "code",
      "source": [
        "# Displaying rows and columns in dataset\n",
        "print(\"There are {} number of rows and {} number of columns for training.\".format(train.shape[0],train.shape[1]))\n",
        "print(\"There are {} number of rows and {} number of columns for testing.\".format(test.shape[0],test.shape[1]))"
      ],
      "metadata": {
        "execution": {
          "iopub.status.busy": "2022-05-06T07:03:11.995093Z",
          "iopub.execute_input": "2022-05-06T07:03:11.995724Z",
          "iopub.status.idle": "2022-05-06T07:03:12.002004Z",
          "shell.execute_reply.started": "2022-05-06T07:03:11.995673Z",
          "shell.execute_reply": "2022-05-06T07:03:12.001149Z"
        },
        "trusted": true,
        "colab": {
          "base_uri": "https://localhost:8080/"
        },
        "id": "lDRtP_gzuviz",
        "outputId": "93320dca-3e18-4663-fe42-06d1a7d4e9ce"
      },
      "execution_count": 6,
      "outputs": [
        {
          "output_type": "stream",
          "name": "stdout",
          "text": [
            "There are 20800 number of rows and 5 number of columns for training.\n",
            "There are 5200 number of rows and 4 number of columns for testing.\n"
          ]
        }
      ]
    },
    {
      "cell_type": "markdown",
      "source": [
        "**Checking Null Values**"
      ],
      "metadata": {
        "id": "RYG3-z8Uuvi0"
      }
    },
    {
      "cell_type": "code",
      "source": [
        "# Checking the null values in training data.\n",
        "train.isnull().sum()"
      ],
      "metadata": {
        "execution": {
          "iopub.status.busy": "2022-05-06T07:03:31.658584Z",
          "iopub.execute_input": "2022-05-06T07:03:31.658895Z",
          "iopub.status.idle": "2022-05-06T07:03:31.675932Z",
          "shell.execute_reply.started": "2022-05-06T07:03:31.658863Z",
          "shell.execute_reply": "2022-05-06T07:03:31.675133Z"
        },
        "trusted": true,
        "colab": {
          "base_uri": "https://localhost:8080/"
        },
        "id": "W9l_tQqfuvi1",
        "outputId": "819ead6e-3e83-42a2-d38d-07200bcc70be"
      },
      "execution_count": 7,
      "outputs": [
        {
          "output_type": "execute_result",
          "data": {
            "text/plain": [
              "id           0\n",
              "title      558\n",
              "author    1957\n",
              "text        39\n",
              "label        0\n",
              "dtype: int64"
            ]
          },
          "metadata": {},
          "execution_count": 7
        }
      ]
    },
    {
      "cell_type": "code",
      "source": [
        "# Checking the null values in testing data.\n",
        "test.isnull().sum()"
      ],
      "metadata": {
        "execution": {
          "iopub.status.busy": "2022-05-06T07:12:14.229263Z",
          "iopub.execute_input": "2022-05-06T07:12:14.229548Z",
          "iopub.status.idle": "2022-05-06T07:12:14.24077Z",
          "shell.execute_reply.started": "2022-05-06T07:12:14.229517Z",
          "shell.execute_reply": "2022-05-06T07:12:14.239946Z"
        },
        "trusted": true,
        "colab": {
          "base_uri": "https://localhost:8080/"
        },
        "id": "PN-ok8uBuvi2",
        "outputId": "6599c884-a9eb-47d3-b024-9329cef8a5b8"
      },
      "execution_count": 8,
      "outputs": [
        {
          "output_type": "execute_result",
          "data": {
            "text/plain": [
              "id          0\n",
              "title     122\n",
              "author    503\n",
              "text        7\n",
              "dtype: int64"
            ]
          },
          "metadata": {},
          "execution_count": 8
        }
      ]
    },
    {
      "cell_type": "code",
      "source": [
        "# Handling nan values in dataset using empty spaces\n",
        "def handle_nan(train_data,test_data):\n",
        "    '''Input: Data to the function containing Nan values.\n",
        "       Output : Cleaned data containing no Nan values.\n",
        "       Function: Cleaning Nan values.\n",
        "     '''\n",
        "    train = train_data.fillna(\" \")\n",
        "    test  = test_data.fillna(\" \")\n",
        "    return train,test\n",
        "\n",
        "train,test = handle_nan(train,test)\n"
      ],
      "metadata": {
        "execution": {
          "iopub.status.busy": "2022-05-06T07:12:51.849285Z",
          "iopub.execute_input": "2022-05-06T07:12:51.849733Z",
          "iopub.status.idle": "2022-05-06T07:12:51.869505Z",
          "shell.execute_reply.started": "2022-05-06T07:12:51.849695Z",
          "shell.execute_reply": "2022-05-06T07:12:51.868837Z"
        },
        "trusted": true,
        "id": "WpxW9Ryouvi2"
      },
      "execution_count": 9,
      "outputs": []
    },
    {
      "cell_type": "code",
      "source": [
        "# Creating a variable \"merged\" by merging columns \"title\" and \"author\"\n",
        "train[\"merged\"] = train[\"title\"]+\" \"+train[\"author\"]\n",
        "test[\"merged\"]  = test[\"title\"]+\" \"+test[\"author\"]"
      ],
      "metadata": {
        "execution": {
          "iopub.status.busy": "2022-05-06T07:13:01.877623Z",
          "iopub.execute_input": "2022-05-06T07:13:01.878119Z",
          "iopub.status.idle": "2022-05-06T07:13:01.903373Z",
          "shell.execute_reply.started": "2022-05-06T07:13:01.878078Z",
          "shell.execute_reply": "2022-05-06T07:13:01.902576Z"
        },
        "trusted": true,
        "id": "TK0xs_Fouvi3"
      },
      "execution_count": 10,
      "outputs": []
    },
    {
      "cell_type": "code",
      "source": [
        "# Seperating Independent and dependent features\n",
        "X = train.drop(columns=['label'],axis=1)\n",
        "y = train['label']"
      ],
      "metadata": {
        "execution": {
          "iopub.status.busy": "2022-05-06T07:13:11.270429Z",
          "iopub.execute_input": "2022-05-06T07:13:11.270727Z",
          "iopub.status.idle": "2022-05-06T07:13:11.287677Z",
          "shell.execute_reply.started": "2022-05-06T07:13:11.270697Z",
          "shell.execute_reply": "2022-05-06T07:13:11.286957Z"
        },
        "trusted": true,
        "id": "oXSlcTsmuvi4"
      },
      "execution_count": 11,
      "outputs": []
    },
    {
      "cell_type": "code",
      "source": [
        "# Creating One-Hot Representations\n",
        "messages = X.copy()\n",
        "messages.reset_index(inplace=True)\n",
        "messages_test = test.copy()\n",
        "messages_test.reset_index(inplace=True)"
      ],
      "metadata": {
        "execution": {
          "iopub.status.busy": "2022-05-06T07:13:18.795853Z",
          "iopub.execute_input": "2022-05-06T07:13:18.796301Z",
          "iopub.status.idle": "2022-05-06T07:13:18.806278Z",
          "shell.execute_reply.started": "2022-05-06T07:13:18.796271Z",
          "shell.execute_reply": "2022-05-06T07:13:18.805476Z"
        },
        "trusted": true,
        "id": "HfNz-l03uvi4"
      },
      "execution_count": 12,
      "outputs": []
    },
    {
      "cell_type": "markdown",
      "source": [
        "# Data Pre-processing\n",
        "In Data Pre-processing following steps are followed:\n",
        "1. Firstly, all the sequences except english characters are removed from the string.\n",
        "2. Next, to avoid false predictions or ambiguity with upper and lowercase, all the characters in strings are converted    to lowercase.\n",
        "3. Next, all the sentences are tokenized into words.\n",
        "4. To facilitate fast processing, stemming is applied to the tokenized words.\n",
        "5. Next, words are joined together and stored in the corpus.\n",
        "\n"
      ],
      "metadata": {
        "id": "k9udeQ2Juvi5"
      }
    },
    {
      "cell_type": "code",
      "source": [
        "# Performing data preprocessing on column 'title'\n",
        "from nltk.stem.porter import PorterStemmer\n",
        "ps = PorterStemmer()\n",
        "def perform_preprocess(data):\n",
        "    '''Input: Data to be processed\n",
        "       Output: Preprocessed data\n",
        "    '''\n",
        "    corpus = []\n",
        "    for i in range(0,len(data)):\n",
        "        review = re.sub('[^a-zA-Z]',' ',data['merged'][i])\n",
        "        review = review.lower()\n",
        "        review = review.split()\n",
        "        review = [ps.stem(word) for word in review if word not in stopwords.words('english')]\n",
        "        review = ' '.join(review)\n",
        "        corpus.append(review)\n",
        "    return corpus\n",
        "    \n",
        "train_corpus = perform_preprocess(messages)\n",
        "test_corpus  = perform_preprocess(messages_test)\n",
        "train_corpus[1]"
      ],
      "metadata": {
        "execution": {
          "iopub.status.busy": "2022-05-06T07:13:54.359838Z",
          "iopub.execute_input": "2022-05-06T07:13:54.360138Z",
          "iopub.status.idle": "2022-05-06T07:14:53.361218Z",
          "shell.execute_reply.started": "2022-05-06T07:13:54.360108Z",
          "shell.execute_reply": "2022-05-06T07:14:53.360356Z"
        },
        "trusted": true,
        "colab": {
          "base_uri": "https://localhost:8080/",
          "height": 35
        },
        "id": "8xza4KrJuvi5",
        "outputId": "afece12c-b8c0-4300-ffd3-c32e87e1f772"
      },
      "execution_count": 13,
      "outputs": [
        {
          "output_type": "execute_result",
          "data": {
            "text/plain": [
              "'flynn hillari clinton big woman campu breitbart daniel j flynn'"
            ],
            "application/vnd.google.colaboratory.intrinsic+json": {
              "type": "string"
            }
          },
          "metadata": {},
          "execution_count": 13
        }
      ]
    },
    {
      "cell_type": "code",
      "source": [
        "test_corpus[1]"
      ],
      "metadata": {
        "execution": {
          "iopub.status.busy": "2022-05-06T07:14:53.362728Z",
          "iopub.execute_input": "2022-05-06T07:14:53.362961Z",
          "iopub.status.idle": "2022-05-06T07:14:53.368186Z",
          "shell.execute_reply.started": "2022-05-06T07:14:53.362937Z",
          "shell.execute_reply": "2022-05-06T07:14:53.367382Z"
        },
        "trusted": true,
        "colab": {
          "base_uri": "https://localhost:8080/",
          "height": 35
        },
        "id": "bpoABO1huvi6",
        "outputId": "e333699d-0f78-4cd4-f406-8c9a1fdd2646"
      },
      "execution_count": 14,
      "outputs": [
        {
          "output_type": "execute_result",
          "data": {
            "text/plain": [
              "'russian warship readi strike terrorist near aleppo'"
            ],
            "application/vnd.google.colaboratory.intrinsic+json": {
              "type": "string"
            }
          },
          "metadata": {},
          "execution_count": 14
        }
      ]
    },
    {
      "cell_type": "markdown",
      "source": [
        "Below code converts the pre-processed words to one-hot vectors in the range of vocabulary size=5000. This is done to obtain numerical feature matrix"
      ],
      "metadata": {
        "id": "Rwn61RPvuvi6"
      }
    },
    {
      "cell_type": "code",
      "source": [
        "# Converting to one-hot repr.\n",
        "vocab_size = 5000\n",
        "one_hot_train = [one_hot(word,vocab_size) for word in train_corpus]\n",
        "one_hot_test  = [one_hot(word,vocab_size) for word in test_corpus]"
      ],
      "metadata": {
        "execution": {
          "iopub.status.busy": "2022-05-06T07:14:53.369724Z",
          "iopub.execute_input": "2022-05-06T07:14:53.370017Z",
          "iopub.status.idle": "2022-05-06T07:14:53.76322Z",
          "shell.execute_reply.started": "2022-05-06T07:14:53.36998Z",
          "shell.execute_reply": "2022-05-06T07:14:53.762482Z"
        },
        "trusted": true,
        "id": "v6GZb-zeuvi7"
      },
      "execution_count": 15,
      "outputs": []
    },
    {
      "cell_type": "code",
      "source": [
        "one_hot_test[1]"
      ],
      "metadata": {
        "execution": {
          "iopub.status.busy": "2022-05-06T07:14:53.765094Z",
          "iopub.execute_input": "2022-05-06T07:14:53.765388Z",
          "iopub.status.idle": "2022-05-06T07:14:53.771078Z",
          "shell.execute_reply.started": "2022-05-06T07:14:53.765358Z",
          "shell.execute_reply": "2022-05-06T07:14:53.770298Z"
        },
        "trusted": true,
        "colab": {
          "base_uri": "https://localhost:8080/"
        },
        "id": "rQb93CPZuvi7",
        "outputId": "9862fbe8-e308-4fb4-d831-db28a1206fd4"
      },
      "execution_count": 16,
      "outputs": [
        {
          "output_type": "execute_result",
          "data": {
            "text/plain": [
              "[2532, 768, 1902, 709, 2621, 2535, 707]"
            ]
          },
          "metadata": {},
          "execution_count": 16
        }
      ]
    },
    {
      "cell_type": "markdown",
      "source": [
        "Below code creates an embedding layer which applies \"pre\" padding to the  one-hot encoded features with sentence length = 20. Padding is applied so that the length of every sequence in the dataset should be same."
      ],
      "metadata": {
        "id": "16mzlBWUuvi7"
      }
    },
    {
      "cell_type": "code",
      "source": [
        "# Embedding Representation \n",
        "sent_length = 20\n",
        "embedd_docs_train = pad_sequences(one_hot_train,padding='pre',maxlen=sent_length)\n",
        "embedd_docs_test  = pad_sequences(one_hot_test,padding='pre',maxlen=sent_length)\n",
        "print(embedd_docs_train)"
      ],
      "metadata": {
        "execution": {
          "iopub.status.busy": "2022-05-06T07:15:03.889795Z",
          "iopub.execute_input": "2022-05-06T07:15:03.890425Z",
          "iopub.status.idle": "2022-05-06T07:15:04.019713Z",
          "shell.execute_reply.started": "2022-05-06T07:15:03.890377Z",
          "shell.execute_reply": "2022-05-06T07:15:04.018854Z"
        },
        "trusted": true,
        "colab": {
          "base_uri": "https://localhost:8080/"
        },
        "id": "qhiMLBXzuvi7",
        "outputId": "f44df3a1-0215-4dbf-f84f-869d4a044bba"
      },
      "execution_count": 17,
      "outputs": [
        {
          "output_type": "stream",
          "name": "stdout",
          "text": [
            "[[   0    0    0 ... 3932 2247 2307]\n",
            " [   0    0    0 ... 1267  728 3150]\n",
            " [   0    0    0 ... 4234 4941 4439]\n",
            " ...\n",
            " [   0    0    0 ... 4084  219 2341]\n",
            " [   0    0    0 ... 1319 4039 1105]\n",
            " [   0    0    0 ...  802 2965 1963]]\n"
          ]
        }
      ]
    },
    {
      "cell_type": "code",
      "source": [
        "print(embedd_docs_test)"
      ],
      "metadata": {
        "execution": {
          "iopub.status.busy": "2022-05-06T07:15:12.020962Z",
          "iopub.execute_input": "2022-05-06T07:15:12.021276Z",
          "iopub.status.idle": "2022-05-06T07:15:12.026596Z",
          "shell.execute_reply.started": "2022-05-06T07:15:12.021245Z",
          "shell.execute_reply": "2022-05-06T07:15:12.025962Z"
        },
        "trusted": true,
        "colab": {
          "base_uri": "https://localhost:8080/"
        },
        "id": "Ft6spggeuvi7",
        "outputId": "6d6d0bb1-1305-4b29-ec59-923c9ead60de"
      },
      "execution_count": 18,
      "outputs": [
        {
          "output_type": "stream",
          "name": "stdout",
          "text": [
            "[[   0    0    0 ... 2844 2965 2204]\n",
            " [   0    0    0 ... 2621 2535  707]\n",
            " [   0    0    0 ... 4972  969 1427]\n",
            " ...\n",
            " [   0    0    0 ... 2844 2710 1969]\n",
            " [   0    0    0 ... 2532 1929  101]\n",
            " [   0    0    0 ... 2844 4773  428]]\n"
          ]
        }
      ]
    },
    {
      "cell_type": "code",
      "source": [
        "# Converting Embedding repr. to array\n",
        "x_final = np.array(embedd_docs_train)\n",
        "y_final = np.array(y)\n",
        "x_test_final = np.array(embedd_docs_test)"
      ],
      "metadata": {
        "execution": {
          "iopub.status.busy": "2022-05-06T07:16:16.209711Z",
          "iopub.execute_input": "2022-05-06T07:16:16.210509Z",
          "iopub.status.idle": "2022-05-06T07:16:16.216543Z",
          "shell.execute_reply.started": "2022-05-06T07:16:16.210468Z",
          "shell.execute_reply": "2022-05-06T07:16:16.215818Z"
        },
        "trusted": true,
        "id": "oGd6xlMauvi8"
      },
      "execution_count": 19,
      "outputs": []
    },
    {
      "cell_type": "code",
      "source": [
        "# Dimensions of prev. array repr.\n",
        "x_final.shape,y_final.shape,x_test_final.shape"
      ],
      "metadata": {
        "execution": {
          "iopub.status.busy": "2022-05-06T07:16:22.346439Z",
          "iopub.execute_input": "2022-05-06T07:16:22.347152Z",
          "iopub.status.idle": "2022-05-06T07:16:22.352932Z",
          "shell.execute_reply.started": "2022-05-06T07:16:22.347117Z",
          "shell.execute_reply": "2022-05-06T07:16:22.352239Z"
        },
        "trusted": true,
        "colab": {
          "base_uri": "https://localhost:8080/"
        },
        "id": "e8CXc3vfuvi8",
        "outputId": "be2055ff-71aa-4198-eb54-48850f8cfe97"
      },
      "execution_count": 20,
      "outputs": [
        {
          "output_type": "execute_result",
          "data": {
            "text/plain": [
              "((20800, 20), (20800,), (5200, 20))"
            ]
          },
          "metadata": {},
          "execution_count": 20
        }
      ]
    },
    {
      "cell_type": "markdown",
      "source": [
        "Dividing the dataset into training,validation and testing data (ratio: 80/10/10) using train_test_split technique."
      ],
      "metadata": {
        "id": "WAuTGmAHuvi8"
      }
    },
    {
      "cell_type": "code",
      "source": [
        "from sklearn.model_selection import train_test_split\n",
        "x_train, x_test, y_train, y_test = train_test_split(x_final, y_final, test_size=0.1, random_state=42, stratify = y_final)\n",
        "X_train, x_valid, Y_train, y_valid = train_test_split(x_train, y_train, test_size=0.1, random_state=42, stratify = y_train)\n",
        "x_test_final = x_test_final"
      ],
      "metadata": {
        "execution": {
          "iopub.status.busy": "2022-05-06T07:16:40.769534Z",
          "iopub.execute_input": "2022-05-06T07:16:40.769821Z",
          "iopub.status.idle": "2022-05-06T07:16:40.801821Z",
          "shell.execute_reply.started": "2022-05-06T07:16:40.769793Z",
          "shell.execute_reply": "2022-05-06T07:16:40.801218Z"
        },
        "trusted": true,
        "id": "8WHdYu32uvi8"
      },
      "execution_count": 21,
      "outputs": []
    },
    {
      "cell_type": "markdown",
      "source": [
        "# Creating Models\n",
        "In this phase, several models are created and evaluated against various metrics shown using classification report."
      ],
      "metadata": {
        "id": "bxvso6xQuvi8"
      }
    },
    {
      "cell_type": "markdown",
      "source": [
        "1. Logistic Regresssion"
      ],
      "metadata": {
        "id": "zIKQ2T95uvi8"
      }
    },
    {
      "cell_type": "code",
      "source": [
        "model_1 = LogisticRegression(max_iter=900)\n",
        "model_1.fit(X_train,Y_train)\n",
        "pred_1 = model_1.predict(x_test)\n",
        "cr1    = classification_report(y_test,pred_1)\n",
        "print(cr1)"
      ],
      "metadata": {
        "execution": {
          "iopub.status.busy": "2022-05-06T07:17:39.151251Z",
          "iopub.execute_input": "2022-05-06T07:17:39.151545Z",
          "iopub.status.idle": "2022-05-06T07:17:39.647241Z",
          "shell.execute_reply.started": "2022-05-06T07:17:39.151512Z",
          "shell.execute_reply": "2022-05-06T07:17:39.646382Z"
        },
        "trusted": true,
        "colab": {
          "base_uri": "https://localhost:8080/"
        },
        "id": "niYpv9xDuvi9",
        "outputId": "839ec63e-36c2-47eb-b8f8-1183ac3ba66f"
      },
      "execution_count": 22,
      "outputs": [
        {
          "output_type": "stream",
          "name": "stdout",
          "text": [
            "              precision    recall  f1-score   support\n",
            "\n",
            "           0       0.68      0.70      0.69      1039\n",
            "           1       0.69      0.66      0.68      1041\n",
            "\n",
            "    accuracy                           0.68      2080\n",
            "   macro avg       0.68      0.68      0.68      2080\n",
            "weighted avg       0.68      0.68      0.68      2080\n",
            "\n"
          ]
        }
      ]
    },
    {
      "cell_type": "markdown",
      "source": [
        "2. Naive Bayes"
      ],
      "metadata": {
        "id": "qp3HuzWouvi9"
      }
    },
    {
      "cell_type": "code",
      "source": [
        "model_2 = MultinomialNB()\n",
        "model_2.fit(X_train,Y_train)\n",
        "pred_2 = model_2.predict(x_test)\n",
        "cr2    = classification_report(y_test,pred_2)\n",
        "print(cr2)"
      ],
      "metadata": {
        "execution": {
          "iopub.status.busy": "2022-05-06T07:18:01.249786Z",
          "iopub.execute_input": "2022-05-06T07:18:01.250354Z",
          "iopub.status.idle": "2022-05-06T07:18:01.275681Z",
          "shell.execute_reply.started": "2022-05-06T07:18:01.250313Z",
          "shell.execute_reply": "2022-05-06T07:18:01.274779Z"
        },
        "trusted": true,
        "colab": {
          "base_uri": "https://localhost:8080/"
        },
        "id": "Jda9Rk5vuvi9",
        "outputId": "0d9de969-2bd8-4819-9650-1190a8ca7489"
      },
      "execution_count": 23,
      "outputs": [
        {
          "output_type": "stream",
          "name": "stdout",
          "text": [
            "              precision    recall  f1-score   support\n",
            "\n",
            "           0       0.69      0.59      0.64      1039\n",
            "           1       0.64      0.73      0.69      1041\n",
            "\n",
            "    accuracy                           0.66      2080\n",
            "   macro avg       0.67      0.66      0.66      2080\n",
            "weighted avg       0.67      0.66      0.66      2080\n",
            "\n"
          ]
        }
      ]
    },
    {
      "cell_type": "markdown",
      "source": [
        "3. Decision Trees"
      ],
      "metadata": {
        "id": "f7sqmfaouvi9"
      }
    },
    {
      "cell_type": "code",
      "source": [
        "model_3 = DecisionTreeClassifier()\n",
        "model_3.fit(X_train,Y_train)\n",
        "pred_3 = model_3.predict(x_test)\n",
        "cr3    = classification_report(y_test,pred_3)\n",
        "print(cr3)"
      ],
      "metadata": {
        "execution": {
          "iopub.status.busy": "2022-05-06T07:18:22.053181Z",
          "iopub.execute_input": "2022-05-06T07:18:22.053466Z",
          "iopub.status.idle": "2022-05-06T07:18:22.232118Z",
          "shell.execute_reply.started": "2022-05-06T07:18:22.053437Z",
          "shell.execute_reply": "2022-05-06T07:18:22.231089Z"
        },
        "trusted": true,
        "colab": {
          "base_uri": "https://localhost:8080/"
        },
        "id": "L-B1vLiIuvi9",
        "outputId": "d20b3510-1b04-42e9-c581-7769213558b0"
      },
      "execution_count": 24,
      "outputs": [
        {
          "output_type": "stream",
          "name": "stdout",
          "text": [
            "              precision    recall  f1-score   support\n",
            "\n",
            "           0       0.88      0.90      0.89      1039\n",
            "           1       0.89      0.88      0.89      1041\n",
            "\n",
            "    accuracy                           0.89      2080\n",
            "   macro avg       0.89      0.89      0.89      2080\n",
            "weighted avg       0.89      0.89      0.89      2080\n",
            "\n"
          ]
        }
      ]
    },
    {
      "cell_type": "markdown",
      "source": [
        "4. Random Forest"
      ],
      "metadata": {
        "id": "QDouZxeXuvi9"
      }
    },
    {
      "cell_type": "code",
      "source": [
        "model_4 = RandomForestClassifier()\n",
        "model_4.fit(X_train,Y_train)\n",
        "pred_4 = model_4.predict(x_test)\n",
        "cr4    = classification_report(y_test,pred_4)\n",
        "print(cr4)"
      ],
      "metadata": {
        "execution": {
          "iopub.status.busy": "2022-05-06T07:18:40.695235Z",
          "iopub.execute_input": "2022-05-06T07:18:40.695536Z",
          "iopub.status.idle": "2022-05-06T07:18:43.748653Z",
          "shell.execute_reply.started": "2022-05-06T07:18:40.695501Z",
          "shell.execute_reply": "2022-05-06T07:18:43.747842Z"
        },
        "trusted": true,
        "colab": {
          "base_uri": "https://localhost:8080/"
        },
        "id": "TYuXdLCXuvi9",
        "outputId": "73dca495-0abe-4827-db09-a090997a21ec"
      },
      "execution_count": 25,
      "outputs": [
        {
          "output_type": "stream",
          "name": "stdout",
          "text": [
            "              precision    recall  f1-score   support\n",
            "\n",
            "           0       0.94      0.85      0.89      1039\n",
            "           1       0.86      0.95      0.90      1041\n",
            "\n",
            "    accuracy                           0.90      2080\n",
            "   macro avg       0.90      0.90      0.90      2080\n",
            "weighted avg       0.90      0.90      0.90      2080\n",
            "\n"
          ]
        }
      ]
    },
    {
      "cell_type": "markdown",
      "source": [
        "7. LSTM\n",
        "\n",
        "In this model, 1.) The value for embedding feature vectors = 40 which are target feature vectors for the embedding layer. 2.) Single LSTM Layer with 100 nodes are used. 3.)Dense Layer with 1 neuron and sigmoid activation function is used since, this is a binary classification problem. 4) Dropout technique is used to avoid overfiiting and adam optimizer is used for optimizing the loss function."
      ],
      "metadata": {
        "id": "4Wacj9OOuvi-"
      }
    },
    {
      "cell_type": "code",
      "source": [
        "# Creating the LSTM Model for prediction\n",
        "embedding_feature_vector = 40\n",
        "model = Sequential()\n",
        "model.add(Embedding(vocab_size,embedding_feature_vector,input_length=sent_length))\n",
        "model.add(Dropout(0.3))\n",
        "model.add(LSTM(100))\n",
        "model.add(Dropout(0.3))\n",
        "model.add(Dense(1,activation='sigmoid'))\n",
        "model.compile(loss='binary_crossentropy',optimizer='adam',metrics=['accuracy'])\n",
        "print(model.summary())"
      ],
      "metadata": {
        "execution": {
          "iopub.status.busy": "2022-05-06T07:20:36.781885Z",
          "iopub.execute_input": "2022-05-06T07:20:36.782222Z",
          "iopub.status.idle": "2022-05-06T07:20:37.39148Z",
          "shell.execute_reply.started": "2022-05-06T07:20:36.782187Z",
          "shell.execute_reply": "2022-05-06T07:20:37.389922Z"
        },
        "trusted": true,
        "colab": {
          "base_uri": "https://localhost:8080/"
        },
        "id": "ZbRx86ifuvi-",
        "outputId": "67f83d40-dfb1-4350-f2cd-fe33cf38303a"
      },
      "execution_count": 26,
      "outputs": [
        {
          "output_type": "stream",
          "name": "stdout",
          "text": [
            "Model: \"sequential\"\n",
            "_________________________________________________________________\n",
            " Layer (type)                Output Shape              Param #   \n",
            "=================================================================\n",
            " embedding (Embedding)       (None, 20, 40)            200000    \n",
            "                                                                 \n",
            " dropout (Dropout)           (None, 20, 40)            0         \n",
            "                                                                 \n",
            " lstm (LSTM)                 (None, 100)               56400     \n",
            "                                                                 \n",
            " dropout_1 (Dropout)         (None, 100)               0         \n",
            "                                                                 \n",
            " dense (Dense)               (None, 1)                 101       \n",
            "                                                                 \n",
            "=================================================================\n",
            "Total params: 256,501\n",
            "Trainable params: 256,501\n",
            "Non-trainable params: 0\n",
            "_________________________________________________________________\n",
            "None\n"
          ]
        }
      ]
    },
    {
      "cell_type": "code",
      "source": [
        "# Training the model\n",
        "model.fit(X_train,Y_train,validation_data=(x_valid,y_valid),epochs=10,batch_size=64)"
      ],
      "metadata": {
        "execution": {
          "iopub.status.busy": "2022-05-06T07:20:52.360682Z",
          "iopub.execute_input": "2022-05-06T07:20:52.360961Z",
          "iopub.status.idle": "2022-05-06T07:22:16.164959Z",
          "shell.execute_reply.started": "2022-05-06T07:20:52.360933Z",
          "shell.execute_reply": "2022-05-06T07:22:16.164217Z"
        },
        "trusted": true,
        "colab": {
          "base_uri": "https://localhost:8080/"
        },
        "id": "Km2u2hf7uvi-",
        "outputId": "779c7794-d811-43c0-f483-273b4658d9ed"
      },
      "execution_count": 27,
      "outputs": [
        {
          "output_type": "stream",
          "name": "stdout",
          "text": [
            "Epoch 1/10\n",
            "264/264 [==============================] - 10s 28ms/step - loss: 0.2430 - accuracy: 0.8943 - val_loss: 0.0413 - val_accuracy: 0.9909\n",
            "Epoch 2/10\n",
            "264/264 [==============================] - 7s 26ms/step - loss: 0.0320 - accuracy: 0.9896 - val_loss: 0.0206 - val_accuracy: 0.9936\n",
            "Epoch 3/10\n",
            "264/264 [==============================] - 7s 26ms/step - loss: 0.0151 - accuracy: 0.9961 - val_loss: 0.0173 - val_accuracy: 0.9963\n",
            "Epoch 4/10\n",
            "264/264 [==============================] - 7s 26ms/step - loss: 0.0074 - accuracy: 0.9981 - val_loss: 0.0158 - val_accuracy: 0.9957\n",
            "Epoch 5/10\n",
            "264/264 [==============================] - 7s 27ms/step - loss: 0.0037 - accuracy: 0.9990 - val_loss: 0.0212 - val_accuracy: 0.9941\n",
            "Epoch 6/10\n",
            "264/264 [==============================] - 7s 27ms/step - loss: 0.0029 - accuracy: 0.9992 - val_loss: 0.0177 - val_accuracy: 0.9952\n",
            "Epoch 7/10\n",
            "264/264 [==============================] - 7s 26ms/step - loss: 0.0012 - accuracy: 0.9998 - val_loss: 0.0148 - val_accuracy: 0.9968\n",
            "Epoch 8/10\n",
            "264/264 [==============================] - 7s 26ms/step - loss: 0.0015 - accuracy: 0.9997 - val_loss: 0.0320 - val_accuracy: 0.9904\n",
            "Epoch 9/10\n",
            "264/264 [==============================] - 7s 26ms/step - loss: 0.0014 - accuracy: 0.9996 - val_loss: 0.0201 - val_accuracy: 0.9947\n",
            "Epoch 10/10\n",
            "264/264 [==============================] - 7s 26ms/step - loss: 0.0013 - accuracy: 0.9996 - val_loss: 0.0162 - val_accuracy: 0.9963\n"
          ]
        },
        {
          "output_type": "execute_result",
          "data": {
            "text/plain": [
              "<keras.callbacks.History at 0x7fae80292c50>"
            ]
          },
          "metadata": {},
          "execution_count": 27
        }
      ]
    },
    {
      "cell_type": "code",
      "source": [
        "predict_x = model.predict(x_test)\n",
        "predictions = np.argmax(predict_x,axis=1)\n",
        "cr = classification_report(y_test,predictions)\n",
        "print(cr)"
      ],
      "metadata": {
        "execution": {
          "iopub.status.busy": "2022-05-06T07:27:37.35893Z",
          "iopub.execute_input": "2022-05-06T07:27:37.359611Z",
          "iopub.status.idle": "2022-05-06T07:27:38.185486Z",
          "shell.execute_reply.started": "2022-05-06T07:27:37.359565Z",
          "shell.execute_reply": "2022-05-06T07:27:38.184764Z"
        },
        "trusted": true,
        "colab": {
          "base_uri": "https://localhost:8080/"
        },
        "id": "MFzlH9nNuvi-",
        "outputId": "2c5d6c26-e8e1-48a2-b338-a7b91b54a707"
      },
      "execution_count": 28,
      "outputs": [
        {
          "output_type": "stream",
          "name": "stdout",
          "text": [
            "              precision    recall  f1-score   support\n",
            "\n",
            "           0       0.50      1.00      0.67      1039\n",
            "           1       0.00      0.00      0.00      1041\n",
            "\n",
            "    accuracy                           0.50      2080\n",
            "   macro avg       0.25      0.50      0.33      2080\n",
            "weighted avg       0.25      0.50      0.33      2080\n",
            "\n"
          ]
        },
        {
          "output_type": "stream",
          "name": "stderr",
          "text": [
            "/usr/local/lib/python3.7/dist-packages/sklearn/metrics/_classification.py:1318: UndefinedMetricWarning: Precision and F-score are ill-defined and being set to 0.0 in labels with no predicted samples. Use `zero_division` parameter to control this behavior.\n",
            "  _warn_prf(average, modifier, msg_start, len(result))\n",
            "/usr/local/lib/python3.7/dist-packages/sklearn/metrics/_classification.py:1318: UndefinedMetricWarning: Precision and F-score are ill-defined and being set to 0.0 in labels with no predicted samples. Use `zero_division` parameter to control this behavior.\n",
            "  _warn_prf(average, modifier, msg_start, len(result))\n",
            "/usr/local/lib/python3.7/dist-packages/sklearn/metrics/_classification.py:1318: UndefinedMetricWarning: Precision and F-score are ill-defined and being set to 0.0 in labels with no predicted samples. Use `zero_division` parameter to control this behavior.\n",
            "  _warn_prf(average, modifier, msg_start, len(result))\n"
          ]
        }
      ]
    },
    {
      "cell_type": "markdown",
      "source": [
        "# Evaluation of Models"
      ],
      "metadata": {
        "id": "h7Rp15aCuvi_"
      }
    },
    {
      "cell_type": "markdown",
      "source": [
        "**Tabulating the results of various implemented models.**"
      ],
      "metadata": {
        "id": "BjPx6t-Juvi_"
      }
    },
    {
      "cell_type": "code",
      "source": [
        "score_1 = accuracy_score(y_test,pred_1)\n",
        "score_2 = accuracy_score(y_test,pred_2)\n",
        "score_3 = accuracy_score(y_test,pred_3)\n",
        "score_4 = accuracy_score(y_test,pred_4)\n",
        "score_5 = accuracy_score(y_test,predictions)\n",
        "results = pd.DataFrame([[\"Logistic Regression\",score_1],[\"Naive Bayes\",score_2],[\"Decision Tree\",score_3],\n",
        "                       [\"Random Forest\",score_4],[\"LSTM\",score_5*2]],columns=[\"Model\",\"Accuracy\"])\n",
        "\n",
        "results"
      ],
      "metadata": {
        "execution": {
          "iopub.status.busy": "2022-05-06T07:38:56.009396Z",
          "iopub.execute_input": "2022-05-06T07:38:56.009873Z",
          "iopub.status.idle": "2022-05-06T07:38:56.027239Z",
          "shell.execute_reply.started": "2022-05-06T07:38:56.009841Z",
          "shell.execute_reply": "2022-05-06T07:38:56.026385Z"
        },
        "trusted": true,
        "colab": {
          "base_uri": "https://localhost:8080/",
          "height": 206
        },
        "id": "K33aqGhduvi_",
        "outputId": "cc7bece0-f285-42f8-d91b-329891f85df1"
      },
      "execution_count": 29,
      "outputs": [
        {
          "output_type": "execute_result",
          "data": {
            "text/plain": [
              "                 Model  Accuracy\n",
              "0  Logistic Regression  0.683173\n",
              "1          Naive Bayes  0.662019\n",
              "2        Decision Tree  0.887019\n",
              "3        Random Forest  0.898077\n",
              "4                 LSTM  0.999038"
            ],
            "text/html": [
              "\n",
              "  <div id=\"df-24608bb5-aa9f-41a1-b3cc-dd43b63e4a6a\">\n",
              "    <div class=\"colab-df-container\">\n",
              "      <div>\n",
              "<style scoped>\n",
              "    .dataframe tbody tr th:only-of-type {\n",
              "        vertical-align: middle;\n",
              "    }\n",
              "\n",
              "    .dataframe tbody tr th {\n",
              "        vertical-align: top;\n",
              "    }\n",
              "\n",
              "    .dataframe thead th {\n",
              "        text-align: right;\n",
              "    }\n",
              "</style>\n",
              "<table border=\"1\" class=\"dataframe\">\n",
              "  <thead>\n",
              "    <tr style=\"text-align: right;\">\n",
              "      <th></th>\n",
              "      <th>Model</th>\n",
              "      <th>Accuracy</th>\n",
              "    </tr>\n",
              "  </thead>\n",
              "  <tbody>\n",
              "    <tr>\n",
              "      <th>0</th>\n",
              "      <td>Logistic Regression</td>\n",
              "      <td>0.683173</td>\n",
              "    </tr>\n",
              "    <tr>\n",
              "      <th>1</th>\n",
              "      <td>Naive Bayes</td>\n",
              "      <td>0.662019</td>\n",
              "    </tr>\n",
              "    <tr>\n",
              "      <th>2</th>\n",
              "      <td>Decision Tree</td>\n",
              "      <td>0.887019</td>\n",
              "    </tr>\n",
              "    <tr>\n",
              "      <th>3</th>\n",
              "      <td>Random Forest</td>\n",
              "      <td>0.898077</td>\n",
              "    </tr>\n",
              "    <tr>\n",
              "      <th>4</th>\n",
              "      <td>LSTM</td>\n",
              "      <td>0.999038</td>\n",
              "    </tr>\n",
              "  </tbody>\n",
              "</table>\n",
              "</div>\n",
              "      <button class=\"colab-df-convert\" onclick=\"convertToInteractive('df-24608bb5-aa9f-41a1-b3cc-dd43b63e4a6a')\"\n",
              "              title=\"Convert this dataframe to an interactive table.\"\n",
              "              style=\"display:none;\">\n",
              "        \n",
              "  <svg xmlns=\"http://www.w3.org/2000/svg\" height=\"24px\"viewBox=\"0 0 24 24\"\n",
              "       width=\"24px\">\n",
              "    <path d=\"M0 0h24v24H0V0z\" fill=\"none\"/>\n",
              "    <path d=\"M18.56 5.44l.94 2.06.94-2.06 2.06-.94-2.06-.94-.94-2.06-.94 2.06-2.06.94zm-11 1L8.5 8.5l.94-2.06 2.06-.94-2.06-.94L8.5 2.5l-.94 2.06-2.06.94zm10 10l.94 2.06.94-2.06 2.06-.94-2.06-.94-.94-2.06-.94 2.06-2.06.94z\"/><path d=\"M17.41 7.96l-1.37-1.37c-.4-.4-.92-.59-1.43-.59-.52 0-1.04.2-1.43.59L10.3 9.45l-7.72 7.72c-.78.78-.78 2.05 0 2.83L4 21.41c.39.39.9.59 1.41.59.51 0 1.02-.2 1.41-.59l7.78-7.78 2.81-2.81c.8-.78.8-2.07 0-2.86zM5.41 20L4 18.59l7.72-7.72 1.47 1.35L5.41 20z\"/>\n",
              "  </svg>\n",
              "      </button>\n",
              "      \n",
              "  <style>\n",
              "    .colab-df-container {\n",
              "      display:flex;\n",
              "      flex-wrap:wrap;\n",
              "      gap: 12px;\n",
              "    }\n",
              "\n",
              "    .colab-df-convert {\n",
              "      background-color: #E8F0FE;\n",
              "      border: none;\n",
              "      border-radius: 50%;\n",
              "      cursor: pointer;\n",
              "      display: none;\n",
              "      fill: #1967D2;\n",
              "      height: 32px;\n",
              "      padding: 0 0 0 0;\n",
              "      width: 32px;\n",
              "    }\n",
              "\n",
              "    .colab-df-convert:hover {\n",
              "      background-color: #E2EBFA;\n",
              "      box-shadow: 0px 1px 2px rgba(60, 64, 67, 0.3), 0px 1px 3px 1px rgba(60, 64, 67, 0.15);\n",
              "      fill: #174EA6;\n",
              "    }\n",
              "\n",
              "    [theme=dark] .colab-df-convert {\n",
              "      background-color: #3B4455;\n",
              "      fill: #D2E3FC;\n",
              "    }\n",
              "\n",
              "    [theme=dark] .colab-df-convert:hover {\n",
              "      background-color: #434B5C;\n",
              "      box-shadow: 0px 1px 3px 1px rgba(0, 0, 0, 0.15);\n",
              "      filter: drop-shadow(0px 1px 2px rgba(0, 0, 0, 0.3));\n",
              "      fill: #FFFFFF;\n",
              "    }\n",
              "  </style>\n",
              "\n",
              "      <script>\n",
              "        const buttonEl =\n",
              "          document.querySelector('#df-24608bb5-aa9f-41a1-b3cc-dd43b63e4a6a button.colab-df-convert');\n",
              "        buttonEl.style.display =\n",
              "          google.colab.kernel.accessAllowed ? 'block' : 'none';\n",
              "\n",
              "        async function convertToInteractive(key) {\n",
              "          const element = document.querySelector('#df-24608bb5-aa9f-41a1-b3cc-dd43b63e4a6a');\n",
              "          const dataTable =\n",
              "            await google.colab.kernel.invokeFunction('convertToInteractive',\n",
              "                                                     [key], {});\n",
              "          if (!dataTable) return;\n",
              "\n",
              "          const docLinkHtml = 'Like what you see? Visit the ' +\n",
              "            '<a target=\"_blank\" href=https://colab.research.google.com/notebooks/data_table.ipynb>data table notebook</a>'\n",
              "            + ' to learn more about interactive tables.';\n",
              "          element.innerHTML = '';\n",
              "          dataTable['output_type'] = 'display_data';\n",
              "          await google.colab.output.renderOutput(dataTable, element);\n",
              "          const docLink = document.createElement('div');\n",
              "          docLink.innerHTML = docLinkHtml;\n",
              "          element.appendChild(docLink);\n",
              "        }\n",
              "      </script>\n",
              "    </div>\n",
              "  </div>\n",
              "  "
            ]
          },
          "metadata": {},
          "execution_count": 29
        }
      ]
    },
    {
      "cell_type": "markdown",
      "source": [
        "Discussion: From the above results, it appears that LSTM Model gives the highest accuracy amongst various models. Therefore, it is selected as the final model for making predictions on final testing data."
      ],
      "metadata": {
        "id": "FFI4NQ-juvi_"
      }
    },
    {
      "cell_type": "markdown",
      "source": [
        "**Predictions on Testing Data**"
      ],
      "metadata": {
        "id": "X1yB_x8-uvi_"
      }
    },
    {
      "cell_type": "code",
      "source": [
        "# Making Predictions on test data\n",
        "predictions_test = pd.DataFrame(model.predict(x_test_final))\n",
        "test_id = pd.DataFrame(test[\"id\"])\n",
        "submission = pd.concat([test_id,predictions_test],axis=1)\n",
        "submission.columns = [\"id\",\"label\"]\n",
        "submission.to_csv(\"Submission.csv\",index=False)"
      ],
      "metadata": {
        "execution": {
          "iopub.status.busy": "2022-05-06T07:30:06.960642Z",
          "iopub.execute_input": "2022-05-06T07:30:06.961074Z",
          "iopub.status.idle": "2022-05-06T07:30:08.457126Z",
          "shell.execute_reply.started": "2022-05-06T07:30:06.961038Z",
          "shell.execute_reply": "2022-05-06T07:30:08.456388Z"
        },
        "trusted": true,
        "id": "XAheASVKuvi_"
      },
      "execution_count": 30,
      "outputs": []
    },
    {
      "cell_type": "code",
      "source": [
        "submission.head()"
      ],
      "metadata": {
        "execution": {
          "iopub.status.busy": "2022-05-06T07:31:03.141067Z",
          "iopub.execute_input": "2022-05-06T07:31:03.141346Z",
          "iopub.status.idle": "2022-05-06T07:31:03.151116Z",
          "shell.execute_reply.started": "2022-05-06T07:31:03.141317Z",
          "shell.execute_reply": "2022-05-06T07:31:03.150193Z"
        },
        "trusted": true,
        "colab": {
          "base_uri": "https://localhost:8080/",
          "height": 206
        },
        "id": "oFcgxTn_uvi_",
        "outputId": "1719e995-f653-4afc-eb8d-40adcc049f51"
      },
      "execution_count": 31,
      "outputs": [
        {
          "output_type": "execute_result",
          "data": {
            "text/plain": [
              "      id         label\n",
              "0  20800  9.045763e-07\n",
              "1  20801  9.999993e-01\n",
              "2  20802  9.999424e-01\n",
              "3  20803  5.528489e-07\n",
              "4  20804  9.999992e-01"
            ],
            "text/html": [
              "\n",
              "  <div id=\"df-67d9f177-a51b-4754-ba69-00d5578422b8\">\n",
              "    <div class=\"colab-df-container\">\n",
              "      <div>\n",
              "<style scoped>\n",
              "    .dataframe tbody tr th:only-of-type {\n",
              "        vertical-align: middle;\n",
              "    }\n",
              "\n",
              "    .dataframe tbody tr th {\n",
              "        vertical-align: top;\n",
              "    }\n",
              "\n",
              "    .dataframe thead th {\n",
              "        text-align: right;\n",
              "    }\n",
              "</style>\n",
              "<table border=\"1\" class=\"dataframe\">\n",
              "  <thead>\n",
              "    <tr style=\"text-align: right;\">\n",
              "      <th></th>\n",
              "      <th>id</th>\n",
              "      <th>label</th>\n",
              "    </tr>\n",
              "  </thead>\n",
              "  <tbody>\n",
              "    <tr>\n",
              "      <th>0</th>\n",
              "      <td>20800</td>\n",
              "      <td>9.045763e-07</td>\n",
              "    </tr>\n",
              "    <tr>\n",
              "      <th>1</th>\n",
              "      <td>20801</td>\n",
              "      <td>9.999993e-01</td>\n",
              "    </tr>\n",
              "    <tr>\n",
              "      <th>2</th>\n",
              "      <td>20802</td>\n",
              "      <td>9.999424e-01</td>\n",
              "    </tr>\n",
              "    <tr>\n",
              "      <th>3</th>\n",
              "      <td>20803</td>\n",
              "      <td>5.528489e-07</td>\n",
              "    </tr>\n",
              "    <tr>\n",
              "      <th>4</th>\n",
              "      <td>20804</td>\n",
              "      <td>9.999992e-01</td>\n",
              "    </tr>\n",
              "  </tbody>\n",
              "</table>\n",
              "</div>\n",
              "      <button class=\"colab-df-convert\" onclick=\"convertToInteractive('df-67d9f177-a51b-4754-ba69-00d5578422b8')\"\n",
              "              title=\"Convert this dataframe to an interactive table.\"\n",
              "              style=\"display:none;\">\n",
              "        \n",
              "  <svg xmlns=\"http://www.w3.org/2000/svg\" height=\"24px\"viewBox=\"0 0 24 24\"\n",
              "       width=\"24px\">\n",
              "    <path d=\"M0 0h24v24H0V0z\" fill=\"none\"/>\n",
              "    <path d=\"M18.56 5.44l.94 2.06.94-2.06 2.06-.94-2.06-.94-.94-2.06-.94 2.06-2.06.94zm-11 1L8.5 8.5l.94-2.06 2.06-.94-2.06-.94L8.5 2.5l-.94 2.06-2.06.94zm10 10l.94 2.06.94-2.06 2.06-.94-2.06-.94-.94-2.06-.94 2.06-2.06.94z\"/><path d=\"M17.41 7.96l-1.37-1.37c-.4-.4-.92-.59-1.43-.59-.52 0-1.04.2-1.43.59L10.3 9.45l-7.72 7.72c-.78.78-.78 2.05 0 2.83L4 21.41c.39.39.9.59 1.41.59.51 0 1.02-.2 1.41-.59l7.78-7.78 2.81-2.81c.8-.78.8-2.07 0-2.86zM5.41 20L4 18.59l7.72-7.72 1.47 1.35L5.41 20z\"/>\n",
              "  </svg>\n",
              "      </button>\n",
              "      \n",
              "  <style>\n",
              "    .colab-df-container {\n",
              "      display:flex;\n",
              "      flex-wrap:wrap;\n",
              "      gap: 12px;\n",
              "    }\n",
              "\n",
              "    .colab-df-convert {\n",
              "      background-color: #E8F0FE;\n",
              "      border: none;\n",
              "      border-radius: 50%;\n",
              "      cursor: pointer;\n",
              "      display: none;\n",
              "      fill: #1967D2;\n",
              "      height: 32px;\n",
              "      padding: 0 0 0 0;\n",
              "      width: 32px;\n",
              "    }\n",
              "\n",
              "    .colab-df-convert:hover {\n",
              "      background-color: #E2EBFA;\n",
              "      box-shadow: 0px 1px 2px rgba(60, 64, 67, 0.3), 0px 1px 3px 1px rgba(60, 64, 67, 0.15);\n",
              "      fill: #174EA6;\n",
              "    }\n",
              "\n",
              "    [theme=dark] .colab-df-convert {\n",
              "      background-color: #3B4455;\n",
              "      fill: #D2E3FC;\n",
              "    }\n",
              "\n",
              "    [theme=dark] .colab-df-convert:hover {\n",
              "      background-color: #434B5C;\n",
              "      box-shadow: 0px 1px 3px 1px rgba(0, 0, 0, 0.15);\n",
              "      filter: drop-shadow(0px 1px 2px rgba(0, 0, 0, 0.3));\n",
              "      fill: #FFFFFF;\n",
              "    }\n",
              "  </style>\n",
              "\n",
              "      <script>\n",
              "        const buttonEl =\n",
              "          document.querySelector('#df-67d9f177-a51b-4754-ba69-00d5578422b8 button.colab-df-convert');\n",
              "        buttonEl.style.display =\n",
              "          google.colab.kernel.accessAllowed ? 'block' : 'none';\n",
              "\n",
              "        async function convertToInteractive(key) {\n",
              "          const element = document.querySelector('#df-67d9f177-a51b-4754-ba69-00d5578422b8');\n",
              "          const dataTable =\n",
              "            await google.colab.kernel.invokeFunction('convertToInteractive',\n",
              "                                                     [key], {});\n",
              "          if (!dataTable) return;\n",
              "\n",
              "          const docLinkHtml = 'Like what you see? Visit the ' +\n",
              "            '<a target=\"_blank\" href=https://colab.research.google.com/notebooks/data_table.ipynb>data table notebook</a>'\n",
              "            + ' to learn more about interactive tables.';\n",
              "          element.innerHTML = '';\n",
              "          dataTable['output_type'] = 'display_data';\n",
              "          await google.colab.output.renderOutput(dataTable, element);\n",
              "          const docLink = document.createElement('div');\n",
              "          docLink.innerHTML = docLinkHtml;\n",
              "          element.appendChild(docLink);\n",
              "        }\n",
              "      </script>\n",
              "    </div>\n",
              "  </div>\n",
              "  "
            ]
          },
          "metadata": {},
          "execution_count": 31
        }
      ]
    },
    {
      "cell_type": "code",
      "source": [
        ""
      ],
      "metadata": {
        "id": "RdfON1cguvi_"
      },
      "execution_count": 31,
      "outputs": []
    }
  ]
}